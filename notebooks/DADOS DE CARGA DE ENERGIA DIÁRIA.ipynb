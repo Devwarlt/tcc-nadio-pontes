{
 "cells": [
  {
   "cell_type": "markdown",
   "id": "aba8bf36",
   "metadata": {},
   "source": [
    "# DADOS DE CARGA DE ENERGIA DIÁRIA\n",
    "\n",
    "**Descrição do Dado:** Dados de carga por subsistema numa data de referência em base diária.\n",
    "\n",
    "| Descrição | Código | Tipo de Dado | Formato | Permite valor nulo | Permite valor zerado | Permite valor negativo |\n",
    "| --- | --- | --- | --- | --- | --- | --- |\n",
    "| Código do Subsistema | `id_subsistema` | STRING | 3 POSIÇÕES | Não | - | - |\n",
    "| Nome do Subsistema | `nom_subsistema` | STRING | 60 POSIÇÕES | Não | - | - |\n",
    "| Data de referência | `din_instante` | DATETIME | `YYY-MM-DD HH:MM:SS` | Não | - | - |\n",
    "| Valor da Carga de Energia (MWmed) | `val_cargaenergiamwmed` | FLOAT | - | Não | Não | Não |\n",
    "\n",
    "<small>Última edição em `01-05-2023`.</small>"
   ]
  },
  {
   "cell_type": "code",
   "execution_count": null,
   "id": "b308b6db",
   "metadata": {},
   "outputs": [],
   "source": []
  }
 ],
 "metadata": {
  "kernelspec": {
   "display_name": "Python 3 (ipykernel)",
   "language": "python",
   "name": "python3"
  },
  "language_info": {
   "codemirror_mode": {
    "name": "ipython",
    "version": 3
   },
   "file_extension": ".py",
   "mimetype": "text/x-python",
   "name": "python",
   "nbconvert_exporter": "python",
   "pygments_lexer": "ipython3",
   "version": "3.11.7"
  }
 },
 "nbformat": 4,
 "nbformat_minor": 5
}
