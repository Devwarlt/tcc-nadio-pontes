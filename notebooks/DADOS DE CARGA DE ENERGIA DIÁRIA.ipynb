{
 "cells": [
  {
   "cell_type": "markdown",
   "id": "aba8bf36",
   "metadata": {
    "tags": []
   },
   "source": [
    "# DADOS DE CARGA DE ENERGIA DIÁRIA\n",
    "\n",
    "**Descrição do Dado:** Dados de carga por subsistema numa data de referência em base diária.\n",
    "\n",
    "| Descrição | Código | Tipo de Dado | Formato | Permite valor nulo | Permite valor zerado | Permite valor negativo |\n",
    "| --- | --- | --- | --- | --- | --- | --- |\n",
    "| Código do Subsistema | `id_subsistema` | STRING | 3 POSIÇÕES | Não | - | - |\n",
    "| Nome do Subsistema | `nom_subsistema` | STRING | 60 POSIÇÕES | Não | - | - |\n",
    "| Data de referência | `din_instante` | DATETIME | `YYY-MM-DD HH:MM:SS` | Não | - | - |\n",
    "| Valor da Carga de Energia (MWmed) | `val_cargaenergiamwmed` | FLOAT | - | Não | Não | Não |\n",
    "\n",
    "<small>Última edição em `01-05-2023`.</small>"
   ]
  },
  {
   "cell_type": "code",
   "execution_count": 2,
   "id": "b308b6db",
   "metadata": {
    "tags": []
   },
   "outputs": [],
   "source": [
    "import pandas\n",
    "import os\n",
    "import re\n",
    "import subprocess\n",
    "import requests\n",
    "import json\n",
    "\n",
    "from selenium import webdriver\n",
    "from splinter import Browser\n",
    "from http import HTTPStatus\n",
    "from http.client import responses"
   ]
  },
  {
   "cell_type": "code",
   "execution_count": 3,
   "id": "f7c3c115-b338-4fb7-b0d2-f24d2139e872",
   "metadata": {
    "tags": []
   },
   "outputs": [],
   "source": [
    "__DADOS_ABERTOS_ONS_CARGA_URL = \"https://dados.ons.org.br/dataset/carga-energia\"\n",
    "__DOWNLOAD_DIR = os.path.join(os.getcwd(), \"data\")\n",
    "__REGEX_PATTERN_FILENAME = r'(CARGA_ENERGIA_)[0-9]{4,}'\n",
    "\n",
    "if not os.path.exists(__DOWNLOAD_DIR):\n",
    "    os.mkdir(__DOWNLOAD_DIR)\n",
    "\n",
    "__GECKODRIVER_OPTIONS = webdriver.FirefoxOptions()\n",
    "# __GECKODRIVER_OPTIONS.add_argument(\"--start-maximized\")\n",
    "__GECKODRIVER_OPTIONS.binary_location = r'C:\\Webdriver\\bin\\Firefox\\geckodriver.exe'\n",
    "__BROWSER_OPTIONS = {\n",
    "    'driver_name': 'firefox',\n",
    "    'headless': True,\n",
    "    'options': __GECKODRIVER_OPTIONS\n",
    "}"
   ]
  },
  {
   "cell_type": "code",
   "execution_count": 4,
   "id": "ad11eae8-b651-4c6f-8750-fda41ad1e470",
   "metadata": {
    "tags": []
   },
   "outputs": [],
   "source": [
    "from typing import *\n",
    "from traceback import *\n",
    "\n",
    "def __format_stacktrace(text: str, **kwargs: Dict[str, Any]) -> str:\n",
    "    message: str = text\n",
    "    args: Dict[str, Any] = kwargs.pop('args', {})\n",
    "    if args:\n",
    "        for key, value in args.items():\n",
    "            message += f\"\\n- {key}: {value}\"\n",
    "    return message"
   ]
  },
  {
   "cell_type": "code",
   "execution_count": 5,
   "id": "dab4ab7d-0347-4dc9-b356-7a57d26dbad2",
   "metadata": {
    "tags": []
   },
   "outputs": [],
   "source": [
    "browser = Browser(**__BROWSER_OPTIONS)\n",
    "browser.visit(__DADOS_ABERTOS_ONS_CARGA_URL)\n",
    "csv_urls = [item['href'] for item in browser.find_by_xpath('//a[contains(@href, \".csv\")]')]\n",
    "browser.quit()"
   ]
  },
  {
   "cell_type": "code",
   "execution_count": 6,
   "id": "0384107e-8823-4d44-8b2b-0faf36f7bc20",
   "metadata": {
    "tags": []
   },
   "outputs": [
    {
     "name": "stdout",
     "output_type": "stream",
     "text": [
      "[INFO] Downloading CSV files to path \"C:\\Users\\nadio\\Documents\\GitHub\\tcc-nadio-pontes\\notebooks\\data\":\n",
      "\t* [200 - OK]                 Successfully downloaded file: \"CARGA_ENERGIA_2000.csv\"\n",
      "\t* [200 - OK]                 Successfully downloaded file: \"CARGA_ENERGIA_2001.csv\"\n",
      "\t* [200 - OK]                 Successfully downloaded file: \"CARGA_ENERGIA_2002.csv\"\n",
      "\t* [200 - OK]                 Successfully downloaded file: \"CARGA_ENERGIA_2003.csv\"\n",
      "\t* [200 - OK]                 Successfully downloaded file: \"CARGA_ENERGIA_2004.csv\"\n",
      "\t* [200 - OK]                 Successfully downloaded file: \"CARGA_ENERGIA_2005.csv\"\n",
      "\t* [200 - OK]                 Successfully downloaded file: \"CARGA_ENERGIA_2006.csv\"\n",
      "\t* [200 - OK]                 Successfully downloaded file: \"CARGA_ENERGIA_2007.csv\"\n",
      "\t* [200 - OK]                 Successfully downloaded file: \"CARGA_ENERGIA_2008.csv\"\n",
      "\t* [200 - OK]                 Successfully downloaded file: \"CARGA_ENERGIA_2009.csv\"\n",
      "\t* [200 - OK]                 Successfully downloaded file: \"CARGA_ENERGIA_2010.csv\"\n",
      "\t* [200 - OK]                 Successfully downloaded file: \"CARGA_ENERGIA_2011.csv\"\n",
      "\t* [200 - OK]                 Successfully downloaded file: \"CARGA_ENERGIA_2012.csv\"\n",
      "\t* [200 - OK]                 Successfully downloaded file: \"CARGA_ENERGIA_2013.csv\"\n",
      "\t* [200 - OK]                 Successfully downloaded file: \"CARGA_ENERGIA_2014.csv\"\n",
      "\t* [200 - OK]                 Successfully downloaded file: \"CARGA_ENERGIA_2015.csv\"\n",
      "\t* [200 - OK]                 Successfully downloaded file: \"CARGA_ENERGIA_2016.csv\"\n",
      "\t* [200 - OK]                 Successfully downloaded file: \"CARGA_ENERGIA_2017.csv\"\n",
      "\t* [200 - OK]                 Successfully downloaded file: \"CARGA_ENERGIA_2018.csv\"\n",
      "\t* [200 - OK]                 Successfully downloaded file: \"CARGA_ENERGIA_2019.csv\"\n",
      "\t* [200 - OK]                 Successfully downloaded file: \"CARGA_ENERGIA_2020.csv\"\n",
      "\t* [200 - OK]                 Successfully downloaded file: \"CARGA_ENERGIA_2021.csv\"\n",
      "\t* [200 - OK]                 Successfully downloaded file: \"CARGA_ENERGIA_2022.csv\"\n",
      "\t* [200 - OK]                 Successfully downloaded file: \"CARGA_ENERGIA_2023.csv\"\n",
      "\t* [200 - OK]                 Successfully downloaded file: \"CARGA_ENERGIA_2024.csv\"\n"
     ]
    }
   ],
   "source": [
    "print(f'[INFO] Downloading CSV files to path \"{__DOWNLOAD_DIR}\":')\n",
    "\n",
    "for csv_url in csv_urls:\n",
    "    csv_filename = re.search(f'{__REGEX_PATTERN_FILENAME}(.csv)', csv_url).group()\n",
    "    response = requests.get(csv_url)\n",
    "    response_status = response.status_code\n",
    "    if response_status == HTTPStatus.OK:\n",
    "        with open(os.path.join(__DOWNLOAD_DIR, csv_filename), 'w') as csv_file:\n",
    "            csv_file.write(response.content.decode('utf8'))\n",
    "            print(\n",
    "                f'\\t* [{response_status} - {responses[response_status]}] \\\n",
    "                Successfully downloaded file: \"{csv_filename}\"'\n",
    "             )\n",
    "    else:\n",
    "        print(\n",
    "            f'* [{response_status} - {responses[response_status]}] \\\n",
    "            Unable to download file: \"{csv_filename}\"'\n",
    "         )"
   ]
  },
  {
   "cell_type": "code",
   "execution_count": 7,
   "id": "f0c2c053-163c-4430-9f7a-4b9e4742b965",
   "metadata": {
    "tags": []
   },
   "outputs": [
    {
     "name": "stdout",
     "output_type": "stream",
     "text": [
      "[INFO] Successfully created file:             \"CARGA_ENERGIA_2000.json\"\n",
      "[INFO] Successfully created file:             \"CARGA_ENERGIA_2001.json\"\n",
      "[INFO] Successfully created file:             \"CARGA_ENERGIA_2002.json\"\n",
      "[INFO] Successfully created file:             \"CARGA_ENERGIA_2003.json\"\n",
      "[INFO] Successfully created file:             \"CARGA_ENERGIA_2004.json\"\n",
      "[INFO] Successfully created file:             \"CARGA_ENERGIA_2005.json\"\n",
      "[INFO] Successfully created file:             \"CARGA_ENERGIA_2006.json\"\n",
      "[INFO] Successfully created file:             \"CARGA_ENERGIA_2007.json\"\n",
      "[INFO] Successfully created file:             \"CARGA_ENERGIA_2008.json\"\n",
      "[INFO] Successfully created file:             \"CARGA_ENERGIA_2009.json\"\n",
      "[INFO] Successfully created file:             \"CARGA_ENERGIA_2010.json\"\n",
      "[INFO] Successfully created file:             \"CARGA_ENERGIA_2011.json\"\n",
      "[INFO] Successfully created file:             \"CARGA_ENERGIA_2012.json\"\n",
      "[INFO] Successfully created file:             \"CARGA_ENERGIA_2013.json\"\n",
      "[INFO] Successfully created file:             \"CARGA_ENERGIA_2014.json\"\n",
      "[INFO] Successfully created file:             \"CARGA_ENERGIA_2015.json\"\n",
      "[INFO] Successfully created file:             \"CARGA_ENERGIA_2016.json\"\n",
      "[INFO] Successfully created file:             \"CARGA_ENERGIA_2017.json\"\n",
      "[INFO] Successfully created file:             \"CARGA_ENERGIA_2018.json\"\n",
      "[INFO] Successfully created file:             \"CARGA_ENERGIA_2019.json\"\n",
      "[INFO] Successfully created file:             \"CARGA_ENERGIA_2020.json\"\n",
      "[INFO] Successfully created file:             \"CARGA_ENERGIA_2021.json\"\n",
      "[INFO] Successfully created file:             \"CARGA_ENERGIA_2022.json\"\n",
      "[INFO] Successfully created file:             \"CARGA_ENERGIA_2023.json\"\n",
      "[INFO] Successfully created file:             \"CARGA_ENERGIA_2024.json\"\n"
     ]
    }
   ],
   "source": [
    "csv_files_path = [\n",
    "    os.path.join(__DOWNLOAD_DIR, file)\\\n",
    "    for file in os.listdir(__DOWNLOAD_DIR) if file.endswith('.csv')\n",
    "]\n",
    "\n",
    "for csv_file_path in csv_files_path:\n",
    "    carga_df = pandas.read_csv(csv_file_path, sep=';')\n",
    "    subsistemas = carga_df['id_subsistema'].unique()\n",
    "    nome_subsistemas = carga_df['nom_subsistema'].unique()\n",
    "    cargas = []\n",
    "    \n",
    "    for subsistema, nome_subsistema in zip(subsistemas, nome_subsistemas):\n",
    "        cargas.append({\n",
    "            'id': subsistema,\n",
    "            'nome': nome_subsistema,\n",
    "            'registros': [\n",
    "                # \"data\": DATETIME -- 'din_instante'\n",
    "                # \"carga\" FLOAT -- 'val_cargaenergiamwmed'\n",
    "            ]\n",
    "        })\n",
    "    \n",
    "    datas = carga_df['din_instante'].unique()\n",
    "    json_filename = f'{re.search(__REGEX_PATTERN_FILENAME, csv_file_path).group()}.json'\n",
    "    \n",
    "    for data in datas:\n",
    "        df = carga_df.loc[carga_df['din_instante'] == data]\n",
    "        for carga in cargas:\n",
    "            carga_id, carga_nome, carga_registros = carga\n",
    "            valor_carga = df.loc[df['id_subsistema'] == carga[carga_id]]\\\n",
    "                ['val_cargaenergiamwmed']\n",
    "            energia = 0\n",
    "            try:\n",
    "                if len(valor_carga) > 0:\n",
    "                    energia = float(valor_carga.iloc[0])\n",
    "                    \n",
    "                    if pandas.isna(energia):\n",
    "                        continue\n",
    "                        \n",
    "                    carga[carga_registros].append({\n",
    "                        'data': data,\n",
    "                        'energia': energia\n",
    "                    })\n",
    "                else:\n",
    "                    continue\n",
    "            except:\n",
    "                print(\n",
    "                    __format_stacktrace(\n",
    "                        text=f\"[FATAL] Unexpected data processing behavior.\",\n",
    "                        args={\n",
    "                            'File': json_filename,\n",
    "                            'Data': df.to_json(),\n",
    "                            'Data (type)': type(valor_carga),\n",
    "                            'Stacktrace': format_exc()\n",
    "                        }\n",
    "                    )\n",
    "                )\n",
    "    \n",
    "    with open(os.path.join(__DOWNLOAD_DIR, json_filename), 'w') as json_file:\n",
    "        json_file.write(json.dumps(cargas, indent=True))\n",
    "        print(\n",
    "            f'[INFO] Successfully created file: \\\n",
    "            \"{json_filename}\"'\n",
    "        )"
   ]
  },
  {
   "cell_type": "code",
   "execution_count": null,
   "id": "fa3e4954-dd70-460e-99c4-e50c5c6eb904",
   "metadata": {},
   "outputs": [],
   "source": []
  }
 ],
 "metadata": {
  "kernelspec": {
   "display_name": "Python 3 (ipykernel)",
   "language": "python",
   "name": "python3"
  },
  "language_info": {
   "codemirror_mode": {
    "name": "ipython",
    "version": 3
   },
   "file_extension": ".py",
   "mimetype": "text/x-python",
   "name": "python",
   "nbconvert_exporter": "python",
   "pygments_lexer": "ipython3",
   "version": "3.11.7"
  }
 },
 "nbformat": 4,
 "nbformat_minor": 5
}
