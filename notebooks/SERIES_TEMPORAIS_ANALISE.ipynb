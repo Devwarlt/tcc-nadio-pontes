{
 "cells": [
  {
   "cell_type": "code",
   "execution_count": 2,
   "id": "324121b4-a771-4cff-9dfb-bd4c936099ad",
   "metadata": {
    "tags": []
   },
   "outputs": [
    {
     "name": "stdout",
     "output_type": "stream",
     "text": [
      "Collecting mariadb\n",
      "  Downloading mariadb-1.1.10-cp311-cp311-win_amd64.whl.metadata (3.2 kB)\n",
      "Requirement already satisfied: packaging in c:\\users\\nadio\\anaconda3\\lib\\site-packages (from mariadb) (23.1)\n",
      "Downloading mariadb-1.1.10-cp311-cp311-win_amd64.whl (197 kB)\n",
      "   ---------------------------------------- 0.0/197.6 kB ? eta -:--:--\n",
      "   -- ------------------------------------- 10.2/197.6 kB ? eta -:--:--\n",
      "   ---------------- ----------------------- 81.9/197.6 kB 1.1 MB/s eta 0:00:01\n",
      "   ---------------------------------------- 197.6/197.6 kB 2.0 MB/s eta 0:00:00\n",
      "Installing collected packages: mariadb\n",
      "Successfully installed mariadb-1.1.10\n"
     ]
    }
   ],
   "source": [
    "!pip install mariadb"
   ]
  },
  {
   "cell_type": "code",
   "execution_count": 22,
   "id": "d677a2ba-66d5-4e01-ba19-97edd9b2d999",
   "metadata": {
    "tags": []
   },
   "outputs": [
    {
     "name": "stdout",
     "output_type": "stream",
     "text": [
      "Requirement already satisfied: pyyaml in c:\\users\\nadio\\anaconda3\\lib\\site-packages (6.0.1)\n"
     ]
    }
   ],
   "source": [
    "!pip install pyyaml"
   ]
  },
  {
   "cell_type": "markdown",
   "id": "5fc284d2-2fec-4113-ba92-babde1851394",
   "metadata": {
    "tags": []
   },
   "source": [
    "### Standard references"
   ]
  },
  {
   "cell_type": "code",
   "execution_count": 177,
   "id": "a7c2f267-bbfd-4e92-beb7-e2815491dac5",
   "metadata": {
    "jupyter": {
     "source_hidden": true
    },
    "tags": []
   },
   "outputs": [],
   "source": [
    "from datetime import datetime, timedelta\n",
    "from typing import Any, Dict, List, Sequence, Tuple\n",
    "from yaml import safe_load\n",
    "from logging import INFO, Formatter, basicConfig, warning\n",
    "from mariadb import Connection, Cursor\n",
    "\n",
    "import re"
   ]
  },
  {
   "cell_type": "markdown",
   "id": "5ce2d62f-ea39-4893-9a0b-e63253486dcc",
   "metadata": {},
   "source": [
    "### namespace: `utils`"
   ]
  },
  {
   "cell_type": "code",
   "execution_count": 40,
   "id": "1ee7bc78-bdee-48d4-a56e-ccf9072f0c2d",
   "metadata": {
    "jupyter": {
     "source_hidden": true
    },
    "tags": []
   },
   "outputs": [],
   "source": [
    "DATETIME_FORMAT: str = \"%Y-%m-%d %H:%M:%S\"\n",
    "TIMEZONE_DIFFERENCE: Dict[str, int] = {\"hours\": -3, \"minutes\": 0}\n",
    "\n",
    "def brt_now() -> datetime:\n",
    "    return datetime.utcnow() + timedelta(**TIMEZONE_DIFFERENCE)\n",
    "\n",
    "class Settings(object):\n",
    "    CONFIG: Dict[str, Any] = {}\n",
    "\n",
    "    def __init__(self, *args: Tuple[Any, ...], **kwargs: Dict[str, Any]):\n",
    "        raise SyntaxError(\"This is an utility class.\")\n",
    "\n",
    "    @staticmethod\n",
    "    def load(path: str) -> None:\n",
    "        with open(path, \"r\") as file:\n",
    "            Settings.CONFIG = safe_load(file)"
   ]
  },
  {
   "cell_type": "markdown",
   "id": "ee59019f-cb82-4427-88ee-a46a8506055b",
   "metadata": {
    "tags": []
   },
   "source": [
    "### namespace: `db`"
   ]
  },
  {
   "cell_type": "code",
   "execution_count": 140,
   "id": "d880c923-67e4-46ad-b380-78ac9a371cd6",
   "metadata": {
    "tags": []
   },
   "outputs": [],
   "source": [
    "class Report(object):\n",
    "    def __init__(\n",
    "        self,\n",
    "        subsystem_id: str,\n",
    "        instant_record: datetime | str,\n",
    "        instant_load_following: float,\n",
    "    ):\n",
    "        self.__subsystem_id: str = subsystem_id\n",
    "        self.__instant_record: datetime = datetime.min\n",
    "\n",
    "        if isinstance(instant_record, datetime):\n",
    "            self.__instant_record = instant_record\n",
    "        else:\n",
    "            try:\n",
    "                self.__instant_record = datetime.strptime(\n",
    "                    instant_record, DATETIME_FORMAT\n",
    "                )\n",
    "            except ValueError:\n",
    "                self.__instant_record = datetime.strptime(\n",
    "                    f\"{instant_record} 00:00:00\", DATETIME_FORMAT\n",
    "                )\n",
    "\n",
    "        self.__instant_load_following: float = instant_load_following\n",
    "\n",
    "    @property\n",
    "    def subsystem_id(self) -> str:\n",
    "        return self.__subsystem_id\n",
    "\n",
    "    @subsystem_id.setter\n",
    "    def subsystem_id(self, value: str) -> None:\n",
    "        self.__subsystem_id = value\n",
    "\n",
    "    @property\n",
    "    def instant_record(self) -> datetime:\n",
    "        return self.__instant_record\n",
    "\n",
    "    @instant_record.setter\n",
    "    def instant_record(self, value: datetime) -> None:\n",
    "        self.__instant_record = value\n",
    "\n",
    "    @property\n",
    "    def instant_load_following(self) -> float:\n",
    "        return self.__instant_load_following\n",
    "\n",
    "    @instant_load_following.setter\n",
    "    def instant_load_following(self, value: float) -> None:\n",
    "        self.__instant_load_following = value\n",
    "\n",
    "    def serialize_data(self) -> Tuple[str, datetime, float]:\n",
    "        return (\n",
    "            self.__subsystem_id,\n",
    "            self.__instant_record,\n",
    "            self.__instant_load_following,\n",
    "        )\n",
    "\n",
    "    def to_json(self) -> Dict[str, Any]:\n",
    "        return {\n",
    "            \"subsystem_id\": self.__subsystem_id,\n",
    "            \"instant_record\": self.__instant_record.strftime(DATETIME_FORMAT),\n",
    "            \"instant_load_following\": self.__instant_load_following,\n",
    "        }\n",
    "\n",
    "\n",
    "class MariaDbUtils(object):\n",
    "    def __init__(self, *args: Tuple[Any, ...]):\n",
    "        raise SyntaxError(\"This is an utility class.\")\n",
    "\n",
    "    @staticmethod\n",
    "    def add_report(report: Report) -> bool:\n",
    "        with MariaDb() as mariadb:\n",
    "            return mariadb.execute(\n",
    "                query=\"\"\"\n",
    "                INSERT INTO `sin_subsystems_reports` (\n",
    "                    `subsystem_id`, `instant_record`,\n",
    "                    `instant_load_following`\n",
    "                ) VALUES (?, ?, ?)\n",
    "                \"\"\",\n",
    "                data=report.serialize_data(),\n",
    "            )\n",
    "\n",
    "    @staticmethod\n",
    "    def add_reports(reports: List[Report]) -> bool:\n",
    "        with MariaDb() as mariadb:\n",
    "            return mariadb.executemany(\n",
    "                query=\"\"\"\n",
    "                INSERT INTO `sin_subsystems_reports` (\n",
    "                    `subsystem_id`, `instant_record`,\n",
    "                    `instant_load_following`\n",
    "                ) VALUES (?, ?, ?)\n",
    "                \"\"\",\n",
    "                data=[report.serialize_data() for report in reports],\n",
    "            )\n",
    "\n",
    "    @staticmethod\n",
    "    def is_empty_reports() -> bool:\n",
    "        with MariaDb() as mariadb:\n",
    "            cursor: Cursor = mariadb.execute(\n",
    "                query=\"SELECT COUNT(`id`) FROM `sin_subsystems_reports`\"\n",
    "            )\n",
    "            cursor_results: Tuple[int, ...] = cursor.fetchone()\n",
    "            (count_reports,) = cursor_results\n",
    "            return count_reports == 0\n",
    "        \n",
    "    @staticmethod\n",
    "    def fetch_subsystem_name_by_id(subsystem_id: str) -> str:\n",
    "        with MariaDb() as mariadb:\n",
    "            cursor: Cursor = mariadb.execute(\n",
    "                query=\"SELECT `name` FROM `sin_subsystems` WHERE `id`=?\",\n",
    "                data=(subsystem_id,),\n",
    "            )\n",
    "            cursor_results: Tuple[str, ...] = cursor.fetchone()\n",
    "            if cursor_results.__len__() == 0:\n",
    "                return None\n",
    "            \n",
    "            (subsystem_name,) = cursor_results\n",
    "            return subsystem_name\n",
    "\n",
    "    @staticmethod\n",
    "    def fetch_reports_by_subsystem_id(subsystem_id: str) -> List[Report]:\n",
    "        with MariaDb() as mariadb:\n",
    "            cursor: Cursor = mariadb.execute(\n",
    "                query=\"SELECT * FROM `sin_subsystems_reports` WHERE `subsystem_id`=?\",\n",
    "                data=(subsystem_id,),\n",
    "            )\n",
    "            for args in cursor:\n",
    "                yield Report(*args[1:])\n",
    "\n",
    "    @staticmethod\n",
    "    def fetch_distinct_instant_record_years() -> List[int]:\n",
    "        if MariaDbUtils.is_empty_reports():\n",
    "            yield None\n",
    "\n",
    "        with MariaDb() as mariadb:\n",
    "            current_year: int = brt_now().year\n",
    "            cursor: Cursor = mariadb.execute(\n",
    "                query=\"SELECT DISTINCT YEAR(`instant_record`) FROM `sin_subsystems_reports`\"\n",
    "            )\n",
    "            for (year,) in cursor:\n",
    "                if year < current_year:\n",
    "                    yield year\n",
    "\n",
    "    @staticmethod\n",
    "    def fetch_latest_instant_record() -> datetime:\n",
    "        if MariaDbUtils.is_empty_reports():\n",
    "            return datetime.min\n",
    "\n",
    "        with MariaDb() as mariadb:\n",
    "            cursor: Cursor = mariadb.execute(\n",
    "                query=\"SELECT MAX(`instant_record`) FROM `sin_subsystems_reports`\"\n",
    "            )\n",
    "            cursor_results: Tuple[datetime, ...] = cursor.fetchone()\n",
    "            if cursor_results.__len__() == 0:\n",
    "                return datetime.min\n",
    "\n",
    "            (instant_record,) = cursor_results\n",
    "            return instant_record\n",
    "\n",
    "\n",
    "class MariaDb(object):\n",
    "    def __init__(self):\n",
    "        self.__db_connection: Connection = None\n",
    "\n",
    "    def __enter__(self):\n",
    "        try:\n",
    "            self.__db_connection: Connection = Connection(**Settings.CONFIG[\"database\"])\n",
    "        except Exception as err:\n",
    "            warning(f\"Error connecting to MariaDB Platform: {err}\", RuntimeWarning)\n",
    "        return self\n",
    "\n",
    "    def __exit__(self, *args: Tuple[Any, ...]) -> None:\n",
    "        self.__db_connection.close()\n",
    "\n",
    "    def execute(self, query: str, data: Sequence = ()) -> Cursor | bool:\n",
    "        is_select_statement: bool = bool(re.match(r\"^(select).*\", query.lower()))\n",
    "        db_cursor: Cursor = self.__db_connection.cursor()\n",
    "        try:\n",
    "            db_cursor.execute(query.strip(), data)\n",
    "            if is_select_statement:\n",
    "                return db_cursor\n",
    "            else:\n",
    "                return True\n",
    "        except Exception as err:\n",
    "            warning(\n",
    "                f\"Error while committing changes to database: {err}\", RuntimeWarning\n",
    "            )\n",
    "            return False\n",
    "\n",
    "    def executemany(self, query: str, data: List[Sequence]) -> bool:\n",
    "        db_cursor: Cursor = self.__db_connection.cursor()\n",
    "        try:\n",
    "            db_cursor.executemany(query.strip(), data)\n",
    "            return True\n",
    "        except Exception as err:\n",
    "            warning(\n",
    "                f\"Error while committing massive changes to database: {err}\",\n",
    "                RuntimeWarning,\n",
    "            )\n",
    "            return False"
   ]
  },
  {
   "cell_type": "markdown",
   "id": "c1656a0b-5e4e-4a71-9556-52d266faf7f1",
   "metadata": {},
   "source": [
    "### namespace: `__init__::__main__()`"
   ]
  },
  {
   "cell_type": "code",
   "execution_count": 46,
   "id": "5491acb7-1cb1-415b-9058-c813a5faed43",
   "metadata": {
    "jupyter": {
     "source_hidden": true
    },
    "tags": []
   },
   "outputs": [],
   "source": [
    "Settings.load(\"../settings.yaml\")\n",
    "\n",
    "log_fmt: Formatter = Formatter(\n",
    "    \"%(asctime)s,%(msecs)-3d - %(levelname)-8s => \" \"%(message)s\"\n",
    ")\n",
    "log_config: Dict[str, Any] = {\n",
    "    \"format\": vars(log_fmt).get(\"_fmt\"),\n",
    "    \"datefmt\": \"%Y-%m-%d %H:%M:%S\",\n",
    "    \"level\": INFO,\n",
    "}\n",
    "basicConfig(**log_config)"
   ]
  },
  {
   "cell_type": "code",
   "execution_count": 156,
   "id": "f99622da-ebe7-46f7-8285-ddc7413a80e5",
   "metadata": {
    "tags": []
   },
   "outputs": [],
   "source": [
    "from statsmodels.tsa.seasonal import seasonal_decompose\n",
    "\n",
    "import matplotlib.pyplot as plt\n",
    "import pandas as pd"
   ]
  },
  {
   "cell_type": "code",
   "execution_count": 142,
   "id": "9aff81c4-d452-4d4d-b3ec-df4e39cd82e4",
   "metadata": {
    "tags": []
   },
   "outputs": [],
   "source": [
    "SUBSYSTEM_ID: str = \"N\" # searching for  'North' subsystem on SIN\n",
    "SUBSYSTEM_NAME: str = MariaDbUtils.fetch_subsystem_name_by_id(SUBSYSTEM_ID)"
   ]
  },
  {
   "cell_type": "code",
   "execution_count": 130,
   "id": "2b7f8270-3a32-44a3-be8e-a41efb1c5ba0",
   "metadata": {
    "tags": []
   },
   "outputs": [],
   "source": [
    "reports_by_subsystem_id: List[Report] = list(MariaDbUtils.fetch_reports_by_subsystem_id(SUBSYSTEM_ID))"
   ]
  },
  {
   "cell_type": "code",
   "execution_count": 132,
   "id": "cdbc5e24-3129-46af-b253-0851fa0212fb",
   "metadata": {
    "tags": []
   },
   "outputs": [
    {
     "data": {
      "text/plain": [
       "9150"
      ]
     },
     "execution_count": 132,
     "metadata": {},
     "output_type": "execute_result"
    }
   ],
   "source": [
    "reports_by_subsystem_id.__len__()"
   ]
  },
  {
   "cell_type": "code",
   "execution_count": 134,
   "id": "5e883ffc-e770-49d1-ae5f-b9ad7660b7f0",
   "metadata": {
    "tags": []
   },
   "outputs": [],
   "source": [
    "df: pd.DataFrame = pd.DataFrame(\n",
    "    [report.serialize_data() for report in reports_by_subsystem_id],\n",
    "    columns=['subsystem_id', 'instant_record', 'instant_load_following']\n",
    ")"
   ]
  },
  {
   "cell_type": "code",
   "execution_count": 136,
   "id": "b5b6a958-c464-4c4e-aae2-56ef361c813f",
   "metadata": {
    "tags": []
   },
   "outputs": [
    {
     "data": {
      "text/html": [
       "<div>\n",
       "<style scoped>\n",
       "    .dataframe tbody tr th:only-of-type {\n",
       "        vertical-align: middle;\n",
       "    }\n",
       "\n",
       "    .dataframe tbody tr th {\n",
       "        vertical-align: top;\n",
       "    }\n",
       "\n",
       "    .dataframe thead th {\n",
       "        text-align: right;\n",
       "    }\n",
       "</style>\n",
       "<table border=\"1\" class=\"dataframe\">\n",
       "  <thead>\n",
       "    <tr style=\"text-align: right;\">\n",
       "      <th></th>\n",
       "      <th>subsystem_id</th>\n",
       "      <th>instant_record</th>\n",
       "      <th>instant_load_following</th>\n",
       "    </tr>\n",
       "  </thead>\n",
       "  <tbody>\n",
       "    <tr>\n",
       "      <th>0</th>\n",
       "      <td>N</td>\n",
       "      <td>2000-01-01</td>\n",
       "      <td>2243.51</td>\n",
       "    </tr>\n",
       "    <tr>\n",
       "      <th>1</th>\n",
       "      <td>N</td>\n",
       "      <td>2000-01-02</td>\n",
       "      <td>2259.81</td>\n",
       "    </tr>\n",
       "    <tr>\n",
       "      <th>2</th>\n",
       "      <td>N</td>\n",
       "      <td>2000-01-03</td>\n",
       "      <td>2407.43</td>\n",
       "    </tr>\n",
       "    <tr>\n",
       "      <th>3</th>\n",
       "      <td>N</td>\n",
       "      <td>2000-01-04</td>\n",
       "      <td>2404.22</td>\n",
       "    </tr>\n",
       "    <tr>\n",
       "      <th>4</th>\n",
       "      <td>N</td>\n",
       "      <td>2000-01-05</td>\n",
       "      <td>2439.65</td>\n",
       "    </tr>\n",
       "  </tbody>\n",
       "</table>\n",
       "</div>"
      ],
      "text/plain": [
       "  subsystem_id instant_record  instant_load_following\n",
       "0            N     2000-01-01                 2243.51\n",
       "1            N     2000-01-02                 2259.81\n",
       "2            N     2000-01-03                 2407.43\n",
       "3            N     2000-01-04                 2404.22\n",
       "4            N     2000-01-05                 2439.65"
      ]
     },
     "execution_count": 136,
     "metadata": {},
     "output_type": "execute_result"
    }
   ],
   "source": [
    "df.head()"
   ]
  },
  {
   "cell_type": "code",
   "execution_count": 179,
   "id": "32f10997-55e2-4030-aaf3-88d8cf84082d",
   "metadata": {
    "tags": []
   },
   "outputs": [],
   "source": [
    "all_years: List[int] = df['instant_record'].dt.year.unique()\n",
    "first_instant_record: datetime = df['instant_record'].iloc[0]\n",
    "last_instant_record: datetime = df['instant_record'].iloc[-1]"
   ]
  },
  {
   "cell_type": "code",
   "execution_count": 189,
   "id": "53db2d44-6a4c-48e8-9614-e5bf73a1efd4",
   "metadata": {
    "tags": []
   },
   "outputs": [
    {
     "data": {
      "text/plain": [
       "24"
      ]
     },
     "execution_count": 189,
     "metadata": {},
     "output_type": "execute_result"
    }
   ],
   "source": [
    "total_period: timedelta = last_instant_record.year - first_instant_record.year\n",
    "total_period"
   ]
  },
  {
   "cell_type": "code",
   "execution_count": 191,
   "id": "b1b26f10-e316-423e-81df-103379814d3d",
   "metadata": {
    "tags": []
   },
   "outputs": [
    {
     "ename": "TypeError",
     "evalue": "seasonal_decompose() got an unexpected keyword argument 'freq'",
     "output_type": "error",
     "traceback": [
      "\u001b[1;31m---------------------------------------------------------------------------\u001b[0m",
      "\u001b[1;31mTypeError\u001b[0m                                 Traceback (most recent call last)",
      "Cell \u001b[1;32mIn[191], line 1\u001b[0m\n\u001b[1;32m----> 1\u001b[0m additive_decomposition \u001b[38;5;241m=\u001b[39m seasonal_decompose(df[\u001b[38;5;124m'\u001b[39m\u001b[38;5;124minstant_load_following\u001b[39m\u001b[38;5;124m'\u001b[39m], model\u001b[38;5;241m=\u001b[39m\u001b[38;5;124m'\u001b[39m\u001b[38;5;124madditive\u001b[39m\u001b[38;5;124m'\u001b[39m, freq\u001b[38;5;241m=\u001b[39m\u001b[38;5;241m15\u001b[39m)\n",
      "\u001b[1;31mTypeError\u001b[0m: seasonal_decompose() got an unexpected keyword argument 'freq'"
     ]
    }
   ],
   "source": [
    "additive_decomposition = seasonal_decompose(df['instant_load_following'], model='additive')"
   ]
  },
  {
   "cell_type": "code",
   "execution_count": 154,
   "id": "20ce2748-f476-472e-bdeb-85acc6e07b6d",
   "metadata": {
    "tags": []
   },
   "outputs": [
    {
     "data": {
      "image/png": "[encoded data removed]",
      "text/plain": [
       "<Figure size 1500x400 with 1 Axes>"
      ]
     },
     "metadata": {},
     "output_type": "display_data"
    }
   ],
   "source": [
    "plt.figure(figsize=(15,4), dpi=100)\n",
    "plt.plot(df['instant_record'], df['instant_load_following'], color='r', label='load following behavior')\n",
    "plt.gca().set(\n",
    "    title=f'[Subsystem: {SUBSYSTEM_NAME}] Load Following from {all_years[0]} to {all_years[-1]} years',\n",
    "    xlabel=\"instant records\",\n",
    "    ylabel=\"load following (MWmed)\"\n",
    ")\n",
    "plt.legend()\n",
    "plt.show()"
   ]
  },
  {
   "cell_type": "code",
   "execution_count": null,
   "id": "d94dc340-b376-4208-8186-4556e3a24c69",
   "metadata": {},
   "outputs": [],
   "source": []
  }
 ],
 "metadata": {
  "kernelspec": {
   "display_name": "Python 3 (ipykernel)",
   "language": "python",
   "name": "python3"
  },
  "language_info": {
   "codemirror_mode": {
    "name": "ipython",
    "version": 3
   },
   "file_extension": ".py",
   "mimetype": "text/x-python",
   "name": "python",
   "nbconvert_exporter": "python",
   "pygments_lexer": "ipython3",
   "version": "3.11.7"
  }
 },
 "nbformat": 4,
 "nbformat_minor": 5
}
